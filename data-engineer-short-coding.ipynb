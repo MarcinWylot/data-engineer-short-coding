{
 "cells": [
  {
   "cell_type": "markdown",
   "id": "77513841",
   "metadata": {},
   "source": [
    "In the file 'de_test_tables.sql' you have a few lines with CREATE TABLE and INSERT statements. Your database does not provide a command line tool to load the schema and data. \n",
    "\n",
    "Write a few lines in python to quicklly parse and load the SQL statements from the file one statement at a time. Filter out emmpty lines and commented out lines, even though sqlite package handled this internally, it's not always the case. Display each statement: ```print('# ', statement)```.\n",
    "\n",
    "Next write a short function retrieveing all contasts and their respective groups. in The gollowing format:\n",
    "- group name\n",
    "- first name\n",
    "- last name\n",
    "\n",
    "Order the resyults by group name."
   ]
  },
  {
   "cell_type": "code",
   "execution_count": 24,
   "id": "f054b401",
   "metadata": {},
   "outputs": [
    {
     "name": "stdout",
     "output_type": "stream",
     "text": [
      "loading file to DB data-engineer-short-coding.sql\n"
     ]
    }
   ],
   "source": [
    "import sqlite3\n",
    "connection = sqlite3.connect(\":memory:\")\n",
    "file = 'data-engineer-short-coding.sql'\n",
    "\n",
    "def load_file(file, connection):\n",
    "    print(\"loading file to DB\", file)\n",
    "    #YOUR CODE\n",
    "\n",
    "load_file(file, connection)"
   ]
  },
  {
   "cell_type": "code",
   "execution_count": 25,
   "id": "b80de0f7",
   "metadata": {},
   "outputs": [],
   "source": [
    "def show_contacts_with_groups(connection):\n",
    "    try:\n",
    "        with connection:\n",
    "# write query\n",
    "            query = '''\n",
    "\n",
    "            '''\n",
    "            for row in connection.execute(query):\n",
    "                print(row)\n",
    "                \n",
    "    except sqlite3.OperationalError as e:\n",
    "        print('sqlite error:', e)   \n",
    "        \n",
    "show_contacts_with_groups(connection)"
   ]
  },
  {
   "cell_type": "code",
   "execution_count": null,
   "id": "0e8bdfc6",
   "metadata": {},
   "outputs": [],
   "source": []
  }
 ],
 "metadata": {
  "kernelspec": {
   "display_name": "Python 3",
   "language": "python",
   "name": "python3"
  },
  "language_info": {
   "codemirror_mode": {
    "name": "ipython",
    "version": 3
   },
   "file_extension": ".py",
   "mimetype": "text/x-python",
   "name": "python",
   "nbconvert_exporter": "python",
   "pygments_lexer": "ipython3",
   "version": "3.8.10"
  }
 },
 "nbformat": 4,
 "nbformat_minor": 5
}
